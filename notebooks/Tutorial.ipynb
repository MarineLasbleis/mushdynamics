{
 "cells": [
  {
   "cell_type": "code",
   "execution_count": 3,
   "metadata": {},
   "outputs": [],
   "source": [
    "import mushdynamics as md"
   ]
  },
  {
   "cell_type": "markdown",
   "metadata": {},
   "source": [
    "# Mush dynamics and compaction\n",
    "\n",
    "## How to use the package\n",
    "\n"
   ]
  },
  {
   "cell_type": "markdown",
   "metadata": {},
   "source": [
    "## Run one simulation"
   ]
  },
  {
   "cell_type": "code",
   "execution_count": 7,
   "metadata": {},
   "outputs": [
    {
     "name": "stdout",
     "output_type": "stream",
     "text": [
      "{'advection': 'FLS', 'n': 2, 'delta': 1.0, 'eta': 1.0, 'psi0': 1.0, 'psiN': 0.6, 'phi_init': 0.4, 'K0': 1.0, 'sign': 1.0, 'BC': 'dVdz==0', 'coordinates': 'spherical', 'growth_rate_exponent': 1.0, 'filename': 'IC', 'time_max': 0.1, 'dt_print': 0.02, 'output': './test//exp_1.00e+00_t_max_1.00e-01_radius_1.00e+01', 'R_init': 0.05, 'N_init': 40, 'Ric_adim': 10.0}\n"
     ]
    }
   ],
   "source": [
    "## The scripts here are also in the folder ./script/runs.py\n",
    "\n",
    "def run(options):\n",
    "    \"\"\" Run a model with the provided options\"\"\"\n",
    "    print(options)\n",
    "    model = md.growth.Compaction(md.mush.velocity_Sramek, **options)\n",
    "    model.run()\n",
    "    \n",
    "def param_growth(r, exp, t_max, n=2, N_fig=5, basefolder=\"\", R_init=1e-3, N_max=5000):\n",
    "    dt = t_max/N_fig\n",
    "    folder_name = basefolder+\"/exp_{:.2e}_t_max_{:.2e}_radius_{:.2e}\".format(exp, t_max, r)\n",
    "    options = {'advection': \"FLS\",\n",
    "                'n': n,\n",
    "                'delta': 1.,\n",
    "                'eta': 1.,\n",
    "                'psi0': 1.,\n",
    "                'psiN': 0.6,\n",
    "                'phi_init': 0.4,\n",
    "                'K0': 1.,\n",
    "                'sign': 1.,\n",
    "                'BC': \"dVdz==0\",\n",
    "                'coordinates': \"spherical\",\n",
    "                \"growth_rate_exponent\": exp,\n",
    "                'filename': 'IC',\n",
    "                'time_max': t_max,\n",
    "                'dt_print': dt,\n",
    "                'output': folder_name,\n",
    "                \"R_init\": R_init*r,\n",
    "                \"N_init\": max(5, int(N_max*R_init)),\n",
    "                \"Ric_adim\": r}\n",
    "    return options\n",
    "\n",
    "options = param_growth(10., 1., 0.1, basefolder=\"./test/\", R_init=5e-3, N_max=8000)\n",
    "run(options)"
   ]
  },
  {
   "cell_type": "markdown",
   "metadata": {},
   "source": [
    "output is then in the folder ./test/: "
   ]
  },
  {
   "cell_type": "code",
   "execution_count": 11,
   "metadata": {},
   "outputs": [
    {
     "name": "stdout",
     "output_type": "stream",
     "text": [
      "['./test/exp_1.00e+00_t_max_1.00e-01_radius_1.00e+01']\n",
      "['./test/exp_1.00e+00_t_max_1.00e-01_radius_1.00e+01/output_0.06000000.timestep', './test/exp_1.00e+00_t_max_1.00e-01_radius_1.00e+01/output_0.10000000.timestep', './test/exp_1.00e+00_t_max_1.00e-01_radius_1.00e+01/output_0.09500000.timestep', './test/exp_1.00e+00_t_max_1.00e-01_radius_1.00e+01/IC_statistics.txt', './test/exp_1.00e+00_t_max_1.00e-01_radius_1.00e+01/output_0.04500000.timestep', './test/exp_1.00e+00_t_max_1.00e-01_radius_1.00e+01/output_0.07500000.timestep', './test/exp_1.00e+00_t_max_1.00e-01_radius_1.00e+01/output_0.08500000.timestep', './test/exp_1.00e+00_t_max_1.00e-01_radius_1.00e+01/output_0.00500000.timestep', './test/exp_1.00e+00_t_max_1.00e-01_radius_1.00e+01/output_0.01000000.timestep', './test/exp_1.00e+00_t_max_1.00e-01_radius_1.00e+01/output_0.03500000.timestep', './test/exp_1.00e+00_t_max_1.00e-01_radius_1.00e+01/output_0.07000000.timestep', './test/exp_1.00e+00_t_max_1.00e-01_radius_1.00e+01/IC_param.yaml', './test/exp_1.00e+00_t_max_1.00e-01_radius_1.00e+01/output_0.02000000.timestep', './test/exp_1.00e+00_t_max_1.00e-01_radius_1.00e+01/output_0.04000000.timestep', './test/exp_1.00e+00_t_max_1.00e-01_radius_1.00e+01/output_0.08000000.timestep', './test/exp_1.00e+00_t_max_1.00e-01_radius_1.00e+01/output_0.03000000.timestep', './test/exp_1.00e+00_t_max_1.00e-01_radius_1.00e+01/output_0.02500000.timestep', './test/exp_1.00e+00_t_max_1.00e-01_radius_1.00e+01/output_0.01500000.timestep', './test/exp_1.00e+00_t_max_1.00e-01_radius_1.00e+01/output_0.05000000.timestep', './test/exp_1.00e+00_t_max_1.00e-01_radius_1.00e+01/output_0.09000000.timestep', './test/exp_1.00e+00_t_max_1.00e-01_radius_1.00e+01/output_0.06500000.timestep', './test/exp_1.00e+00_t_max_1.00e-01_radius_1.00e+01/output_0.05500000.timestep']\n"
     ]
    }
   ],
   "source": [
    "from glob import glob\n",
    "print(glob(\"./test/*\"))\n",
    "print(glob(\"./test/*/*\"))"
   ]
  },
  {
   "cell_type": "markdown",
   "metadata": {},
   "source": [
    "## Some examples of figures from the package\n",
    "\n"
   ]
  },
  {
   "cell_type": "markdown",
   "metadata": {},
   "source": [
    "### Numerical scheme for the discretization of the equations"
   ]
  },
  {
   "cell_type": "code",
   "execution_count": 14,
   "metadata": {},
   "outputs": [
    {
     "name": "stdout",
     "output_type": "stream",
     "text": [
      " <-1 volume-> \n",
      "||-----.-----|-----.-----|       ...      .-----|-----.-----|-----.        ...       -----.-----|-----.-----||  \n",
      "       0     0     1     1                                                                N-1  N-1    N          \n",
      " 0   1/2dr  dr   3/2dr              |           |           |                       |           |                \n",
      "             ->          ->               |     ->    |     ->    |                       |     ->    |            \n",
      " V0          V1          V2               |    V_i-1  |    V_i    |                       |    V_N-1  |     V_N   \n",
      "      phi0        phi1                  phi_i-1     phi_i      phi_i+1                phi_N-1      phi_N         \n",
      "            DP0         DP1                  DP_i-1                                           DP_N-1           \n",
      "\n"
     ]
    }
   ],
   "source": [
    "md.mush.schema()"
   ]
  },
  {
   "cell_type": "markdown",
   "metadata": {},
   "source": [
    "### Growth scenarios for the inner core"
   ]
  },
  {
   "cell_type": "code",
   "execution_count": 18,
   "metadata": {
    "scrolled": true
   },
   "outputs": [
    {
     "name": "stdout",
     "output_type": "stream",
     "text": [
      "Dt supercooling 0.48899999999999993\n",
      "1.0\n",
      "0.5\n"
     ]
    },
    {
     "data": {
      "image/png": "[encoded data removed]",
      "text/plain": [
       "<Figure size 432x288 with 2 Axes>"
      ]
     },
     "metadata": {
      "needs_background": "light"
     },
     "output_type": "display_data"
    }
   ],
   "source": [
    "import warnings\n",
    "with warnings.catch_warnings():\n",
    "    warnings.simplefilter(\"ignore\")  # for the sake of lisibility, we remove the warnings here\n",
    "    md.growth.plot_growth([6, 4])"
   ]
  },
  {
   "cell_type": "code",
   "execution_count": null,
   "metadata": {},
   "outputs": [],
   "source": []
  }
 ],
 "metadata": {
  "jupytext": {
   "formats": "ipynb,py:percent"
  },
  "kernelspec": {
   "display_name": "Python 3",
   "language": "python",
   "name": "python3"
  },
  "language_info": {
   "codemirror_mode": {
    "name": "ipython",
    "version": 3
   },
   "file_extension": ".py",
   "mimetype": "text/x-python",
   "name": "python",
   "nbconvert_exporter": "python",
   "pygments_lexer": "ipython3",
   "version": "3.6.9"
  }
 },
 "nbformat": 4,
 "nbformat_minor": 2
}
